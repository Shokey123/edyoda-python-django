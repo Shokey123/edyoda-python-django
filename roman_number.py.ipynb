{
 "cells": [
  {
   "cell_type": "code",
   "execution_count": 6,
   "metadata": {},
   "outputs": [
    {
     "name": "stdout",
     "output_type": "stream",
     "text": [
      "Enter a number:56\n",
      "LVI\n"
     ]
    }
   ],
   "source": [
    "numerals = {'I':1,\"V\":5,\"X\":10, \"L\":50, \"C\":100, \"D\":500, \"M\":1000}\n",
    "\n",
    "# for k,v in numerals.items():\n",
    "#     print(k,v)\n",
    "\n",
    "input_number = int(input(\"Enter a number:\"))\n",
    "\n",
    "def convert_roman(input_number):\n",
    "    \n",
    "    range_flag = None\n",
    "    \n",
    "    for symbol, integer in numerals.items():\n",
    "        if integer == input_number: return symbol\n",
    "        if input_number > integer:\n",
    "        \n",
    "            range_flag = symbol\n",
    "        \n",
    "    remaining = input_number - numerals[range_flag]\n",
    "    return range_flag + convert_roman(remaining)\n",
    "\n",
    "\n",
    "\n",
    "print(convert_roman(input_number))"
   ]
  },
  {
   "cell_type": "code",
   "execution_count": null,
   "metadata": {},
   "outputs": [],
   "source": []
  },
  {
   "cell_type": "code",
   "execution_count": null,
   "metadata": {},
   "outputs": [],
   "source": []
  }
 ],
 "metadata": {
  "kernelspec": {
   "display_name": "Python 3",
   "language": "python",
   "name": "python3"
  },
  "language_info": {
   "codemirror_mode": {
    "name": "ipython",
    "version": 3
   },
   "file_extension": ".py",
   "mimetype": "text/x-python",
   "name": "python",
   "nbconvert_exporter": "python",
   "pygments_lexer": "ipython3",
   "version": "3.7.3"
  }
 },
 "nbformat": 4,
 "nbformat_minor": 2
}
